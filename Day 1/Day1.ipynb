{
 "cells": [
  {
   "cell_type": "markdown",
   "id": "51e2d706-71bb-4e2a-86a6-ceeb3f7107e1",
   "metadata": {},
   "source": [
    "# Day 1"
   ]
  },
  {
   "cell_type": "code",
   "execution_count": 1,
   "id": "95859f80-c6ae-4bcc-992a-776886cf16b7",
   "metadata": {},
   "outputs": [],
   "source": [
    "import numpy as np\n",
    "import matplotlib.pyplot as plt"
   ]
  },
  {
   "cell_type": "code",
   "execution_count": 2,
   "id": "7e52a853-4fc9-4b78-b2c6-796d5db3c86f",
   "metadata": {},
   "outputs": [],
   "source": [
    "def get_total_distance(arr1, arr2):\n",
    "    sorted_1 = np.sort(arr1)\n",
    "    sorted_2 = np.sort(arr2)\n",
    "\n",
    "    return np.nansum(np.abs(sorted_1 - sorted_2))"
   ]
  },
  {
   "cell_type": "code",
   "execution_count": 8,
   "id": "e977ba9d-3906-4e44-aad4-bdc06e75634e",
   "metadata": {},
   "outputs": [
    {
     "name": "stdout",
     "output_type": "stream",
     "text": [
      "1258579\n"
     ]
    }
   ],
   "source": [
    "day1_list_file = np.loadtxt(\"input.txt\").T\n",
    "print(int(get_total_distance(day1_list_file[0], day1_list_file[1])))"
   ]
  },
  {
   "cell_type": "code",
   "execution_count": null,
   "id": "fe45b23f-0610-4023-8821-52eb272b6d5b",
   "metadata": {},
   "outputs": [],
   "source": []
  }
 ],
 "metadata": {
  "kernelspec": {
   "display_name": "Python 3 (ipykernel)",
   "language": "python",
   "name": "python3"
  },
  "language_info": {
   "codemirror_mode": {
    "name": "ipython",
    "version": 3
   },
   "file_extension": ".py",
   "mimetype": "text/x-python",
   "name": "python",
   "nbconvert_exporter": "python",
   "pygments_lexer": "ipython3",
   "version": "3.13.0"
  }
 },
 "nbformat": 4,
 "nbformat_minor": 5
}
